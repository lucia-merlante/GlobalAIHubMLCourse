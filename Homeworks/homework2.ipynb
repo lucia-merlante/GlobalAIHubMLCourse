{
  "nbformat": 4,
  "nbformat_minor": 0,
  "metadata": {
    "colab": {
      "name": "homework2.ipynb",
      "private_outputs": true,
      "provenance": [],
      "collapsed_sections": []
    },
    "kernelspec": {
      "name": "python3",
      "display_name": "Python 3"
    }
  },
  "cells": [
    {
      "cell_type": "markdown",
      "metadata": {
        "id": "fGBNr0n0-Ujl"
      },
      "source": [
        "#Homework 2\r\n",
        "\r\n",
        "\r\n"
      ]
    },
    {
      "cell_type": "markdown",
      "metadata": {
        "id": "mQHTC5U2-bWM"
      },
      "source": [
        "\r\n",
        "Import Boston Dataset from sklearn dataset class.\r\n",
        "\r\n",
        "Explore and analyse raw data.\r\n",
        "\r\n",
        "Do preprocessing for regression.\r\n",
        "\r\n",
        "Split your dataset into train and test test (0.7 for train and 0.3 for test).\r\n",
        "\r\n",
        "Try Ridge and Lasso Regression models with at least 5 different alpha value for each.\r\n",
        "\r\n",
        "Evaluate the results of all models and choose the best performing model.\r\n"
      ]
    },
    {
      "cell_type": "markdown",
      "metadata": {
        "id": "_C3EsRzrvwV2"
      },
      "source": [
        "***written Conclusion at the bottom of the page after the code"
      ]
    },
    {
      "cell_type": "code",
      "metadata": {
        "id": "TEqakJdrqYpG"
      },
      "source": [
        "from sklearn.datasets import load_boston\r\n",
        "\r\n",
        "X, y = load_boston(return_X_y=True)"
      ],
      "execution_count": null,
      "outputs": []
    },
    {
      "cell_type": "code",
      "metadata": {
        "id": "lcXRDFFtqf_8"
      },
      "source": [
        "import pandas as pd\r\n",
        "\r\n",
        "X = pd.DataFrame(X)\r\n",
        "y = pd.DataFrame(y)\r\n",
        "\r\n",
        "df_boston = pd.concat([X, y], axis=1)\r\n",
        "#renaming columns: otherwise it has two 0 zeros as column names\r\n",
        "df_boston.columns = [x for x in range(14)]\r\n",
        "df_boston"
      ],
      "execution_count": null,
      "outputs": []
    },
    {
      "cell_type": "code",
      "metadata": {
        "id": "O41bYbedq5lG"
      },
      "source": [
        "df_boston.info()"
      ],
      "execution_count": null,
      "outputs": []
    },
    {
      "cell_type": "code",
      "metadata": {
        "id": "GaHL63GEq_s_"
      },
      "source": [
        "df_boston.describe()"
      ],
      "execution_count": null,
      "outputs": []
    },
    {
      "cell_type": "code",
      "metadata": {
        "id": "77u2QALxrEPY"
      },
      "source": [
        "df_boston.corr()"
      ],
      "execution_count": null,
      "outputs": []
    },
    {
      "cell_type": "markdown",
      "metadata": {
        "id": "FvCTM8pnra5N"
      },
      "source": [
        "##preprocessing: deleting outliers for regression"
      ]
    },
    {
      "cell_type": "code",
      "metadata": {
        "id": "NXLdeAmerZwT"
      },
      "source": [
        "from scipy import stats\r\n",
        "import numpy as np\r\n",
        "\r\n",
        "#finding z-scores and adding them to a list\r\n",
        "z = np.abs(stats.zscore(df_boston))\r\n",
        "len(np.where(z > 3)[0])\r\n",
        "outliers = list(set(np.where(z > 3)[0]))\r\n",
        "\r\n",
        "#dropping z-score\r\n",
        "X_ = df_boston.drop(outliers, axis = 0).reset_index(drop = False)\r\n",
        "\r\n",
        "#resetting index\r\n",
        "X_.index = X_.pop('index')\r\n",
        "X_\r\n",
        "\r\n",
        "y_ = X_.pop(13)\r\n",
        "y_"
      ],
      "execution_count": null,
      "outputs": []
    },
    {
      "cell_type": "code",
      "metadata": {
        "id": "1CSGxun6rPJy"
      },
      "source": [
        "from sklearn.preprocessing import StandardScaler, MinMaxScaler\r\n",
        "from sklearn.linear_model import LinearRegression\r\n",
        "\r\n",
        "X_scaled = StandardScaler().fit_transform(X_)\r\n",
        "X_scaled"
      ],
      "execution_count": null,
      "outputs": []
    },
    {
      "cell_type": "code",
      "metadata": {
        "id": "88uEjYQ6egOz"
      },
      "source": [
        "from sklearn.model_selection import train_test_split\r\n",
        "\r\n",
        "# Outliers removed & scaling\r\n",
        "X_train, X_test, y_train, y_test = train_test_split(X_scaled, y_, test_size=0.3, random_state=42)"
      ],
      "execution_count": null,
      "outputs": []
    },
    {
      "cell_type": "code",
      "metadata": {
        "id": "NzIlqrVBnfig"
      },
      "source": [
        "#linear regression to see results\r\n",
        "modelb = LinearRegression(normalize=False)\r\n",
        "modelb.fit(X_train, y_train)\r\n",
        "print(\"Score of the train set\",modelb.score(X_train, y_train))\r\n",
        "print(\"Score of the test set\",modelb.score(X_test, y_test))"
      ],
      "execution_count": null,
      "outputs": []
    },
    {
      "cell_type": "markdown",
      "metadata": {
        "id": "srOIan7bvrfy"
      },
      "source": [
        "##preproccesing: only splitting"
      ]
    },
    {
      "cell_type": "code",
      "metadata": {
        "id": "VnZcvdeurKGE"
      },
      "source": [
        "#split with no preprocessing\r\n",
        "from sklearn.model_selection import train_test_split\r\n",
        "\r\n",
        "X_train, X_test, y_train, y_test = train_test_split(X, y, test_size=0.3, random_state=42)"
      ],
      "execution_count": null,
      "outputs": []
    },
    {
      "cell_type": "markdown",
      "metadata": {
        "id": "Q9NZJ_ldr6WU"
      },
      "source": [
        "##trying lasso and ridge regression"
      ]
    },
    {
      "cell_type": "code",
      "metadata": {
        "id": "mCboCMvPrlyK"
      },
      "source": [
        "from sklearn.linear_model import Ridge\r\n",
        "import numpy as np\r\n",
        "def apply_Ridge(alpha):\r\n",
        "  clf = Ridge(alpha=alpha)\r\n",
        "  clf.fit(X_train, y_train)\r\n",
        "  print('Ridge_train', round(alpha, 2), round(clf.score(X_train, y_train, sample_weight=None), 4))\r\n",
        "  print('Ridge_test', round(alpha, 2), round(clf.score(X_test, y_test, sample_weight=None), 4))\r\n",
        "\r\n",
        "from sklearn import linear_model\r\n",
        "def apply_Lasso(alpha):\r\n",
        "  clf = linear_model.Lasso(alpha=alpha)\r\n",
        "  clf.fit(X_train, y_train)\r\n",
        "  print('Lasso_train', round(alpha, 2), round(clf.score(X_train, y_train, sample_weight=None), 4))\r\n",
        "  print('Lasso_test', round(alpha, 2), round(clf.score(X_test, y_test, sample_weight=None), 4))\r\n",
        "\r\n",
        "for iter in range(5):\r\n",
        "  print('experiment', iter)\r\n",
        "  apply_Ridge(0.1+iter*0.1)\r\n",
        "\r\n",
        "print('___________________')\r\n",
        "for iter in range(5):\r\n",
        "  print('experiment', iter)\r\n",
        "  apply_Lasso(0.1+iter*0.1)"
      ],
      "execution_count": null,
      "outputs": []
    },
    {
      "cell_type": "markdown",
      "metadata": {
        "id": "ms1vSiFfocUD"
      },
      "source": [
        "##Conclusion\r\n",
        "I created one function to measure Ridge performances, another to measure Lasso performances, then used a for cycle to see how they would perform by a change of alpha.\r\n",
        "The top performances where obtained WITHOUT DELETING OUTLIERS AND NORMALIZING THE DATA, with an alpha starting from 0.1 and increasing by 0.1, the performance diminished.\r\n",
        "Hence, I chose the first 5 values from 0.1 for both Ridge and Lasso.\r\n",
        "\r\n",
        "The best performing model was Ridge Regression with an alpha of 0.1. Result on the train score of 0.7415, and on the test score of of 0.7091"
      ]
    }
  ]
}